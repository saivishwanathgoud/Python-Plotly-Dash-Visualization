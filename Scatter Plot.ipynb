{
 "cells": [
  {
   "cell_type": "code",
   "execution_count": 1,
   "metadata": {},
   "outputs": [],
   "source": [
    "#importing the required libraries \n",
    "\n",
    "import numpy as np \n",
    "import plotly.offline as pyo\n",
    "import plotly.graph_objs as go"
   ]
  },
  {
   "cell_type": "code",
   "execution_count": 2,
   "metadata": {},
   "outputs": [],
   "source": [
    "#Genrating random data for visualization\n",
    "np.random.seed(42)\n",
    "x = np.random.randint(1,101,100)\n",
    "y = np.random.randint(1,101,100)"
   ]
  },
  {
   "cell_type": "code",
   "execution_count": 3,
   "metadata": {},
   "outputs": [],
   "source": [
    "#Defining data\n",
    "data = [go.Scatter(x = x, y = y, mode = 'markers', \n",
    "                  marker = dict(size = 12, \n",
    "                               color = 'rgb(1,204,153)', \n",
    "                               symbol = 'pentagon', \n",
    "                               line = {'width':2}))]"
   ]
  },
  {
   "cell_type": "code",
   "execution_count": 4,
   "metadata": {},
   "outputs": [],
   "source": [
    "#Defining layout\n",
    "\n",
    "layout = go.Layout(title = 'Scatter Plot', \n",
    "                  xaxis = dict(title = 'My X Axis'),\n",
    "                  yaxis = dict(title = 'My Y Axis'), \n",
    "                  hovermode = 'closest')"
   ]
  },
  {
   "cell_type": "code",
   "execution_count": 5,
   "metadata": {},
   "outputs": [
    {
     "data": {
      "text/plain": [
       "'scatter.html'"
      ]
     },
     "execution_count": 5,
     "metadata": {},
     "output_type": "execute_result"
    }
   ],
   "source": [
    "#Defining figure \n",
    "\n",
    "fig = go.Figure(data= data, layout = layout)\n",
    "\n",
    "#plotting the scatter\n",
    "pyo.plot(fig, filename = 'scatter.html')"
   ]
  },
  {
   "cell_type": "code",
   "execution_count": null,
   "metadata": {},
   "outputs": [],
   "source": []
  }
 ],
 "metadata": {
  "kernelspec": {
   "display_name": "Python 3",
   "language": "python",
   "name": "python3"
  },
  "language_info": {
   "codemirror_mode": {
    "name": "ipython",
    "version": 3
   },
   "file_extension": ".py",
   "mimetype": "text/x-python",
   "name": "python",
   "nbconvert_exporter": "python",
   "pygments_lexer": "ipython3",
   "version": "3.7.4"
  }
 },
 "nbformat": 4,
 "nbformat_minor": 2
}
